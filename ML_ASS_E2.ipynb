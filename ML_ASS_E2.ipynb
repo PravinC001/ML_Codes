{
 "cells": [
  {
   "cell_type": "code",
   "execution_count": null,
   "id": "e602648c",
   "metadata": {},
   "outputs": [],
   "source": [
    "# Assignment E2\n",
    "# Perform Market Basket Analysis using Apriori Algorithm \n",
    "\n",
    "# Details of the dataset\n",
    "# The dataset has 38765 rows of the purchase orders of people from the grocery stores. These orders can be analyzed and association rules can be generated using Market Basket Analysis.\n",
    "\n",
    "# Required libraries\n",
    "import pandas as pd\n",
    "from mlxtend.frequent_patterns import apriori, association_rules"
   ]
  },
  {
   "cell_type": "code",
   "execution_count": 19,
   "id": "18a532bc",
   "metadata": {},
   "outputs": [],
   "source": [
    "#Load dataset\n",
    "file_path = 'Groceries_dataset.csv'\n",
    "data = pd.read_csv(file_path)"
   ]
  },
  {
   "cell_type": "code",
   "execution_count": null,
   "id": "91e440a0",
   "metadata": {},
   "outputs": [],
   "source": [
    "# Remove duplicates\n",
    "data = data.drop_duplicates()"
   ]
  },
  {
   "cell_type": "code",
   "execution_count": 23,
   "id": "a36e83c0",
   "metadata": {},
   "outputs": [
    {
     "name": "stdout",
     "output_type": "stream",
     "text": [
      "Member_number      0\n",
      "Date               0\n",
      "itemDescription    0\n",
      "dtype: int64\n"
     ]
    }
   ],
   "source": [
    "#Check missing values\n",
    "print(data.isnull().sum())"
   ]
  },
  {
   "cell_type": "code",
   "execution_count": 25,
   "id": "336d1543",
   "metadata": {},
   "outputs": [
    {
     "name": "stdout",
     "output_type": "stream",
     "text": [
      "                                 Date                            \\\n",
      "itemDescription Instant food products UHT-milk abrasive cleaner   \n",
      "Member_number                                                     \n",
      "1000                                0        0                0   \n",
      "1001                                0        0                0   \n",
      "1002                                0        0                0   \n",
      "1003                                0        0                0   \n",
      "1004                                0        0                0   \n",
      "\n",
      "                                                                    \\\n",
      "itemDescription artif. sweetener baby cosmetics bags baking powder   \n",
      "Member_number                                                        \n",
      "1000                           0              0    0             0   \n",
      "1001                           0              0    0             0   \n",
      "1002                           0              0    0             0   \n",
      "1003                           0              0    0             0   \n",
      "1004                           0              0    0             0   \n",
      "\n",
      "                                               ...                         \\\n",
      "itemDescription bathroom cleaner beef berries  ... turkey vinegar waffles   \n",
      "Member_number                                  ...                          \n",
      "1000                           0    0       0  ...      0       0       0   \n",
      "1001                           0    1       0  ...      0       0       0   \n",
      "1002                           0    0       0  ...      0       0       0   \n",
      "1003                           0    0       0  ...      0       0       0   \n",
      "1004                           0    0       0  ...      0       0       0   \n",
      "\n",
      "                                                                             \\\n",
      "itemDescription whipped/sour cream whisky white bread white wine whole milk   \n",
      "Member_number                                                                 \n",
      "1000                             0      0           0          0          1   \n",
      "1001                             1      0           1          0          1   \n",
      "1002                             0      0           0          0          1   \n",
      "1003                             0      0           0          0          0   \n",
      "1004                             0      0           0          0          1   \n",
      "\n",
      "                                 \n",
      "itemDescription yogurt zwieback  \n",
      "Member_number                    \n",
      "1000                 1        0  \n",
      "1001                 0        0  \n",
      "1002                 0        0  \n",
      "1003                 0        0  \n",
      "1004                 0        0  \n",
      "\n",
      "[5 rows x 167 columns]\n"
     ]
    }
   ],
   "source": [
    "# Create pivot table for basket format: rows = members, columns = items\n",
    "basket = data.pivot_table(index='Member_number', columns='itemDescription', aggfunc=len, fill_value=0)\n",
    "\n",
    "# Convert quantities to binary values\n",
    "basket = basket.applymap(lambda x: 1 if x > 0 else 0)\n",
    "\n",
    "# Optional: view a sample\n",
    "print(basket.head())\n"
   ]
  },
  {
   "cell_type": "code",
   "execution_count": 26,
   "id": "09661e07",
   "metadata": {},
   "outputs": [
    {
     "name": "stderr",
     "output_type": "stream",
     "text": [
      "c:\\Users\\TUF GAMING\\Downloads\\Codes\\Codes\\myenv\\lib\\site-packages\\mlxtend\\frequent_patterns\\fpcommon.py:161: DeprecationWarning: DataFrames with non-bool types result in worse computationalperformance and their support might be discontinued in the future.Please use a DataFrame with bool type\n",
      "  warnings.warn(\n"
     ]
    },
    {
     "name": "stdout",
     "output_type": "stream",
     "text": [
      "    support                         itemsets\n",
      "0  0.015393  ((Date, Instant food products))\n",
      "1  0.078502               ((Date, UHT-milk))\n",
      "2  0.031042          ((Date, baking powder))\n",
      "3  0.119548                   ((Date, beef))\n",
      "4  0.079785                ((Date, berries))\n"
     ]
    }
   ],
   "source": [
    "# Set minimum support threshold\n",
    "min_support = 0.01\n",
    "\n",
    "# Find frequent itemsets\n",
    "frequent_itemsets = apriori(basket, min_support=min_support, use_colnames=True)\n",
    "\n",
    "# Optional: view top itemsets\n",
    "print(frequent_itemsets.head())\n"
   ]
  },
  {
   "cell_type": "code",
   "execution_count": 27,
   "id": "900a8156",
   "metadata": {},
   "outputs": [
    {
     "name": "stdout",
     "output_type": "stream",
     "text": [
      "                                            antecedents  \\\n",
      "5820  ((Date, other vegetables), (Date, sausage), (D...   \n",
      "5814  ((Date, other vegetables), (Date, yogurt), (Da...   \n",
      "4902                     ((Date, curd), (Date, yogurt))   \n",
      "5818  ((Date, sausage), (Date, rolls/buns), (Date, w...   \n",
      "5813  ((Date, yogurt), (Date, rolls/buns), (Date, wh...   \n",
      "2644                 ((Date, meat), (Date, whole milk))   \n",
      "5819  ((Date, other vegetables), (Date, sausage), (D...   \n",
      "5774       ((Date, yogurt), (Date, whipped/sour cream))   \n",
      "5193               ((Date, sausage), (Date, pip fruit))   \n",
      "5831  ((Date, other vegetables), (Date, whole milk),...   \n",
      "\n",
      "                                      consequents  antecedent support  \\\n",
      "5820         ((Date, yogurt), (Date, rolls/buns))            0.050282   \n",
      "5814        ((Date, sausage), (Date, whole milk))            0.052335   \n",
      "4902        ((Date, sausage), (Date, whole milk))            0.040277   \n",
      "5818   ((Date, other vegetables), (Date, yogurt))            0.048743   \n",
      "5813  ((Date, other vegetables), (Date, sausage))            0.065931   \n",
      "2644                      ((Date, domestic eggs))            0.034890   \n",
      "5819         ((Date, yogurt), (Date, whole milk))            0.041816   \n",
      "5774        ((Date, sausage), (Date, whole milk))            0.047973   \n",
      "5193   ((Date, other vegetables), (Date, yogurt))            0.042073   \n",
      "5831         ((Date, yogurt), (Date, rolls/buns))            0.042842   \n",
      "\n",
      "      consequent support   support  confidence      lift  representativity  \\\n",
      "5820            0.111339  0.013597    0.270408  2.428689               1.0   \n",
      "5814            0.106978  0.013597    0.259804  2.428575               1.0   \n",
      "4902            0.106978  0.010005    0.248408  2.322046               1.0   \n",
      "5818            0.120318  0.013597    0.278947  2.318415               1.0   \n",
      "5813            0.092868  0.013597    0.206226  2.220629               1.0   \n",
      "2644            0.133145  0.010262    0.294118  2.208999               1.0   \n",
      "5819            0.150590  0.013597    0.325153  2.159196               1.0   \n",
      "5774            0.106978  0.011031    0.229947  2.149476               1.0   \n",
      "5193            0.120318  0.010775    0.256098  2.128504               1.0   \n",
      "5831            0.111339  0.010005    0.233533  2.097492               1.0   \n",
      "\n",
      "      leverage  conviction  zhangs_metric   jaccard  certainty  kulczynski  \n",
      "5820  0.007998    1.218025       0.619400  0.091854   0.178999    0.196264  \n",
      "5814  0.007998    1.206467       0.620721  0.093310   0.171133    0.193451  \n",
      "4902  0.005696    1.188173       0.593239  0.072897   0.158372    0.170966  \n",
      "5818  0.007732    1.219997       0.597810  0.087459   0.180326    0.195977  \n",
      "5813  0.007474    1.142808       0.588476  0.093640   0.124963    0.176317  \n",
      "2644  0.005616    1.228044       0.567092  0.065041   0.185697    0.185594  \n",
      "5819  0.007300    1.258671       0.560294  0.076040   0.205511    0.207721  \n",
      "5774  0.005899    1.159688       0.561718  0.076649   0.137699    0.166532  \n",
      "5193  0.005713    1.182523       0.553473  0.071066   0.154351    0.172825  \n",
      "5831  0.005235    1.159425       0.546660  0.069395   0.137503    0.161697  \n"
     ]
    }
   ],
   "source": [
    "# Set minimum confidence threshold\n",
    "min_confidence = 0.2\n",
    "\n",
    "# Generate rules\n",
    "rules = association_rules(frequent_itemsets, metric=\"confidence\", min_threshold=min_confidence)\n",
    "\n",
    "# Sort rules by lift\n",
    "rules = rules.sort_values(by=\"lift\", ascending=False)\n",
    "\n",
    "# Display top 10 rules\n",
    "print(rules.head(10))\n"
   ]
  },
  {
   "cell_type": "code",
   "execution_count": 28,
   "id": "4367396b",
   "metadata": {},
   "outputs": [],
   "source": [
    "# Save results to CSV files\n",
    "frequent_itemsets.to_csv('frequent_itemsets.csv', index=False)\n",
    "rules.to_csv('association_rules.csv', index=False)\n"
   ]
  }
 ],
 "metadata": {
  "kernelspec": {
   "display_name": "myenv",
   "language": "python",
   "name": "python3"
  },
  "language_info": {
   "codemirror_mode": {
    "name": "ipython",
    "version": 3
   },
   "file_extension": ".py",
   "mimetype": "text/x-python",
   "name": "python",
   "nbconvert_exporter": "python",
   "pygments_lexer": "ipython3",
   "version": "3.8.2"
  }
 },
 "nbformat": 4,
 "nbformat_minor": 5
}
